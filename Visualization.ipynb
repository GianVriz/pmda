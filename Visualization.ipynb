{
 "cells": [
  {
   "cell_type": "code",
   "execution_count": 1,
   "id": "f26358a5",
   "metadata": {},
   "outputs": [],
   "source": [
    "# TSNE + SCATTERPLOT TOPIC AND WORDS\n",
    "\n",
    "import numpy as np\n",
    "\n",
    "def tsne_visualize1(alpha,rho,beta,topwords=10):\n",
    "    alpha_rho=np.vstack((alpha, rho))\n",
    "    tsne_model = TSNE(n_components=2, verbose=0, random_state=0, angle=.99, init='pca')\n",
    "    tsne_lda = tsne_model.fit_transform(alpha_rho)\n",
    "    topK=np.argsort(-1 * beta, axis=1)[:,0:topwords]\n",
    "    topKvect=np.concatenate(topK)\n",
    "    indexes = list(range(50))\n",
    "    for i in list(topKvect):\n",
    "        indexes.append(i)\n",
    "    tsne_lda_topK=tsne_lda[indexes,]\n",
    "    \n",
    "    topics=alpha.shape[0]\n",
    "    colours=list(range(topics))\n",
    "    markers=list(np.repeat('D',topics))\n",
    "    for i in range(topics):\n",
    "        for j in range(K):\n",
    "            colours.append(i)\n",
    "            markers.append('.')\n",
    "    \n",
    "    colormap = []\n",
    "    for name, hex in matplotlib.colors.cnames.items():\n",
    "        colormap.append(hex)\n",
    "    colormap = colormap[:tsne_lda_topK.shape[0]]\n",
    "    colormap = list(np.array(colormap))\n",
    "    colours2 = [colormap[c] for c in colours]\n",
    "    \n",
    "    fig = plt.figure()\n",
    "    ax1 = fig.add_subplot(111)\n",
    "    ax1.scatter(x=tsne_lda_topK[topics:, 0], y=tsne_lda_topK[topics:, 1], c=colours[topics:], marker='.', label='first')\n",
    "    ax1.scatter(x=tsne_lda_topK[:topics, 0], y=tsne_lda_topK[:topics, 1], c=colours[:topics], marker='D', label='second')\n",
    "    #plt.legend(loc='upper left')\n",
    "    #plt.xlim(-2, 2.5)\n",
    "    #plt.ylim(-3, 3)\n",
    "    plt.show()"
   ]
  },
  {
   "cell_type": "code",
   "execution_count": 2,
   "id": "c4224e37",
   "metadata": {},
   "outputs": [],
   "source": [
    "# BARPLOT TOP WORDS PER TOPIC\n",
    "\n",
    "import seaborn as sns\n",
    "import pandas as pd\n",
    "\n",
    "def barplot_topwords(beta, vocab, topic, topwords=10):\n",
    "    topK=np.argsort(-1 * beta[topic,])[0:topwords]\n",
    "    data = {'word':[str(vocab[i]) for i in list(topK)],'beta':list(beta[topic,topK])}\n",
    "    df = pd.DataFrame(data)\n",
    "    sns.barplot(x='beta', y='word', data = df, color='black', orient='h')\n"
   ]
  },
  {
   "cell_type": "code",
   "execution_count": 4,
   "id": "20539fdc",
   "metadata": {
    "collapsed": true
   },
   "outputs": [
    {
     "ename": "NameError",
     "evalue": "name 'theta' is not defined",
     "output_type": "error",
     "traceback": [
      "\u001b[1;31m---------------------------------------------------------------------------\u001b[0m",
      "\u001b[1;31mNameError\u001b[0m                                 Traceback (most recent call last)",
      "\u001b[1;32m<ipython-input-4-ca7a84a26587>\u001b[0m in \u001b[0;36m<module>\u001b[1;34m\u001b[0m\n\u001b[1;32m----> 1\u001b[1;33m \u001b[0mtop_topics\u001b[0m\u001b[1;33m=\u001b[0m\u001b[0mlist\u001b[0m\u001b[1;33m(\u001b[0m\u001b[0mnp\u001b[0m\u001b[1;33m.\u001b[0m\u001b[0margsort\u001b[0m\u001b[1;33m(\u001b[0m\u001b[1;33m-\u001b[0m\u001b[1;36m1\u001b[0m \u001b[1;33m*\u001b[0m \u001b[0mtheta\u001b[0m\u001b[1;33m,\u001b[0m \u001b[0maxis\u001b[0m\u001b[1;33m=\u001b[0m\u001b[1;36m1\u001b[0m\u001b[1;33m)\u001b[0m\u001b[1;33m[\u001b[0m\u001b[1;33m:\u001b[0m\u001b[1;33m,\u001b[0m\u001b[1;36m1\u001b[0m\u001b[1;33m]\u001b[0m\u001b[1;33m)\u001b[0m\u001b[1;33m\u001b[0m\u001b[1;33m\u001b[0m\u001b[0m\n\u001b[0m\u001b[0;32m      2\u001b[0m \u001b[0msns\u001b[0m\u001b[1;33m.\u001b[0m\u001b[0mhistplot\u001b[0m\u001b[1;33m(\u001b[0m\u001b[0mtop_topics\u001b[0m\u001b[1;33m)\u001b[0m\u001b[1;33m.\u001b[0m\u001b[0mset\u001b[0m\u001b[1;33m(\u001b[0m\u001b[0mxlabel\u001b[0m\u001b[1;33m=\u001b[0m\u001b[1;34m'θ'\u001b[0m\u001b[1;33m,\u001b[0m \u001b[0mylabel\u001b[0m\u001b[1;33m=\u001b[0m\u001b[1;34m'counts'\u001b[0m\u001b[1;33m)\u001b[0m\u001b[1;33m\u001b[0m\u001b[1;33m\u001b[0m\u001b[0m\n\u001b[0;32m      3\u001b[0m \u001b[0mplt\u001b[0m\u001b[1;33m.\u001b[0m\u001b[0mshow\u001b[0m\u001b[1;33m(\u001b[0m\u001b[1;33m)\u001b[0m\u001b[1;33m\u001b[0m\u001b[1;33m\u001b[0m\u001b[0m\n",
      "\u001b[1;31mNameError\u001b[0m: name 'theta' is not defined"
     ]
    }
   ],
   "source": [
    "# BARPLOT NUM. DOCUMENTS IN WHICH A TOPIC IS THE MOST IMPORTANT\n",
    "\n",
    "top_topics=list(np.argsort(-1 * theta, axis=1)[:,1])\n",
    "data = {'θ':list(range(T)),'counts':count_top_topics}\n",
    "df = pd.DataFrame(data)\n",
    "sns.barplot(x='θ', y='counts', data = df, color='black')\n",
    "plt.show()\n"
   ]
  },
  {
   "cell_type": "code",
   "execution_count": null,
   "id": "96f3564b",
   "metadata": {},
   "outputs": [],
   "source": [
    "# BARPLOT NUM. DOCUMENTS IN WHICH A TOPIC IS DETECTED (Θ above a threshold)\n",
    "\n",
    "theta_threshold=1/T\n",
    "topic_ndocs=(theta>theta_threshold).sum(axis=0)\n",
    "data = {'topic':list(range(T)),'ndocs':list(topic_ndocs)}\n",
    "df = pd.DataFrame(data)\n",
    "sns.barplot(x='topic', y='ndocs', data = df, color='black')\n",
    "plt.show()"
   ]
  }
 ],
 "metadata": {
  "kernelspec": {
   "display_name": "pmda",
   "language": "python",
   "name": "pmda"
  },
  "language_info": {
   "codemirror_mode": {
    "name": "ipython",
    "version": 3
   },
   "file_extension": ".py",
   "mimetype": "text/x-python",
   "name": "python",
   "nbconvert_exporter": "python",
   "pygments_lexer": "ipython3",
   "version": "3.6.7"
  }
 },
 "nbformat": 4,
 "nbformat_minor": 5
}
