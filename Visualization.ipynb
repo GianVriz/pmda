{
 "cells": [
  {
   "cell_type": "code",
   "execution_count": 2,
   "id": "2066aee7",
   "metadata": {},
   "outputs": [],
   "source": [
    "import numpy as np\n",
    "from sklearn.manifold import TSNE\n",
    "import matplotlib\n",
    "import matplotlib.pyplot as plt\n",
    "from torch import load as torch_load\n",
    "import seaborn as sns\n",
    "import pandas as pd\n",
    "from ipywidgets import widgets\n",
    "\n",
    "ETM = torch_load('C:/Users/gian-/OneDrive/Documents/GitHub/pmda/ETM_guardian_environment_cbow_10_parameters.pt')\n",
    "theta = ETM['theta']\n",
    "alpha = ETM['alpha']\n",
    "rho = ETM['rho']\n",
    "beta = ETM['beta']\n",
    "vocab = ETM['vocab']\n",
    "K = 5"
   ]
  },
  {
   "cell_type": "code",
   "execution_count": 3,
   "id": "f26358a5",
   "metadata": {},
   "outputs": [],
   "source": [
    "# TSNE + SCATTERPLOT TOPIC AND WORDS\n",
    "\n",
    "def tsne_visualize1(alpha,rho,beta,topwords=10):\n",
    "    topics=alpha.shape[0]\n",
    "    alpha_rho=np.vstack((alpha, rho))\n",
    "    tsne_model = TSNE(n_components=2, verbose=0, random_state=0, angle=.99, init='pca')\n",
    "    tsne_lda = tsne_model.fit_transform(alpha_rho)\n",
    "    topK=np.argsort(-1 * beta, axis=1)[:,0:topwords]\n",
    "    topKvect=np.concatenate(topK)\n",
    "    indexes = list(range(topics))\n",
    "    for i in list(topKvect):\n",
    "        indexes.append(i)\n",
    "    tsne_lda_topK=tsne_lda[indexes,]\n",
    "    \n",
    "    colours=list(range(topics))\n",
    "    markers=list(np.repeat('D',topics))\n",
    "    for i in range(topics):\n",
    "        for j in range(topwords):\n",
    "            colours.append(i)\n",
    "            markers.append('.')\n",
    "    \n",
    "    colormap = []\n",
    "    for name, hex in matplotlib.colors.cnames.items():\n",
    "        colormap.append(hex)\n",
    "    colormap = colormap[:tsne_lda_topK.shape[0]]\n",
    "    colormap = list(np.array(colormap))\n",
    "    colours2 = [colormap[c] for c in colours]\n",
    "    \n",
    "    fig = plt.figure()\n",
    "    plt.figure(figsize = (16,8))\n",
    "    plt.rcParams['font.size'] = '12'\n",
    "    sns.set(style = 'darkgrid')\n",
    "    plt.scatter(x=tsne_lda_topK[topics:, 0], y=tsne_lda_topK[topics:, 1], c=colours[topics:], marker='.', label='Words')\n",
    "    plt.scatter(x=tsne_lda_topK[:topics, 0], y=tsne_lda_topK[:topics, 1], c=colours[:topics], marker='D', label='Topics')\n",
    "    plt.title('TSNE dimensionality reduction', fontsize = 16)\n",
    "    plt.legend(loc='best')\n",
    "    #plt.xlim(-2, 2.5)\n",
    "    #plt.ylim(-3, 3)\n",
    "    plt.show()"
   ]
  },
  {
   "cell_type": "code",
   "execution_count": 4,
   "id": "d3f1e111",
   "metadata": {},
   "outputs": [
    {
     "data": {
      "text/plain": [
       "<Figure size 432x288 with 0 Axes>"
      ]
     },
     "metadata": {},
     "output_type": "display_data"
    },
    {
     "data": {
      "image/png": "[encoded data removed]",
      "text/plain": [
       "<Figure size 1152x576 with 1 Axes>"
      ]
     },
     "metadata": {
      "needs_background": "light"
     },
     "output_type": "display_data"
    }
   ],
   "source": [
    "tsne_visualize1(alpha, rho, beta, topwords = 5)"
   ]
  },
  {
   "cell_type": "code",
   "execution_count": 5,
   "id": "c4224e37",
   "metadata": {},
   "outputs": [],
   "source": [
    "# BARPLOT TOP WORDS PER TOPIC\n",
    "#[str(i) for i in list((range(alpha.shape[0])))] \n",
    "def barplot_topwords(topic, beta, vocab, topwords=10):\n",
    "    topK=np.argsort(-1 * beta[topic,])[0:topwords]\n",
    "    data = {'word':[str(vocab[i]) for i in list(topK)],'beta':list(beta[topic,topK])}\n",
    "    df = pd.DataFrame(data)\n",
    "    \n",
    "    fig, ax = plt.subplots(figsize = (10,6))\n",
    "    for label in (ax.get_xticklabels() + ax.get_yticklabels()):\n",
    "        label.set_fontsize(16)\n",
    "        \n",
    "    sns.barplot(x='beta', y='word', data = df, orient='h', edgecolor = 'black', color='steelblue')\n",
    "    plt.title('Top ' + str(topwords) + ' words for topic', fontsize = 18)\n",
    "    plt.xlabel('Beta', fontsize = 18)\n",
    "    plt.ylabel('Word', fontsize = 18)\n",
    "    plt.show"
   ]
  },
  {
   "cell_type": "code",
   "execution_count": 8,
   "id": "f6eeab81",
   "metadata": {},
   "outputs": [
    {
     "data": {
      "application/vnd.jupyter.widget-view+json": {
       "model_id": "8a822f1233f047428634344a33d1b73c",
       "version_major": 2,
       "version_minor": 0
      },
      "text/plain": [
       "interactive(children=(Dropdown(description='topic', options=(0, 1, 2, 3, 4, 5, 6, 7, 8, 9), value=0), Dropdown…"
      ]
     },
     "metadata": {},
     "output_type": "display_data"
    },
    {
     "data": {
      "text/plain": [
       "<function __main__.barplot_topwords(topic, beta, vocab, topwords=10)>"
      ]
     },
     "execution_count": 8,
     "metadata": {},
     "output_type": "execute_result"
    }
   ],
   "source": [
    "from ipywidgets import interact, fixed\n",
    "\n",
    "interact(barplot_topwords, topic = list((range(alpha.shape[0]))), beta = fixed(beta), vocab = fixed(vocab), topwords=list((10,15,20)))"
   ]
  },
  {
   "cell_type": "code",
   "execution_count": null,
   "id": "20539fdc",
   "metadata": {},
   "outputs": [],
   "source": [
    "# BARPLOT NUM. DOCUMENTS IN WHICH A TOPIC IS THE MOST IMPORTANT\n",
    "\n",
    "top_topics=list(np.argsort(-1 * theta, axis=1)[:,1])\n",
    "data = {'θ':list(range(T)),'counts':count_top_topics}\n",
    "df = pd.DataFrame(data)\n",
    "sns.barplot(x='θ', y='counts', data = df, color='black')\n",
    "plt.show()\n"
   ]
  },
  {
   "cell_type": "code",
   "execution_count": null,
   "id": "96f3564b",
   "metadata": {},
   "outputs": [],
   "source": [
    "# BARPLOT NUM. DOCUMENTS IN WHICH A TOPIC IS DETECTED (Θ above a threshold)\n",
    "\n",
    "theta_threshold=1/T\n",
    "topic_ndocs=(theta>theta_threshold).sum(axis=0)\n",
    "data = {'topic':list(range(T)),'ndocs':list(topic_ndocs)}\n",
    "df = pd.DataFrame(data)\n",
    "sns.barplot(x='topic', y='ndocs', data = df, color='black')\n",
    "plt.show()"
   ]
  },
  {
   "cell_type": "code",
   "execution_count": null,
   "id": "1d347031",
   "metadata": {},
   "outputs": [],
   "source": [
    "# TOPIC DISTRIBUTION BY DOCUMENT\n",
    "\n",
    "def get_doc_representation(theta, doc):\n",
    "    data = {'topic':list(range(T)),'topic distribution in doc i':list(theta[doc,])}\n",
    "    df = pd.DataFrame(data)\n",
    "    sns.barplot(x='topic', y='topic distribution in doc i', data = df, color='black')\n",
    "    plt.show()\n"
   ]
  },
  {
   "cell_type": "code",
   "execution_count": null,
   "id": "fd1c20a7",
   "metadata": {},
   "outputs": [],
   "source": [
    "# HISTOGRAM NUM. WORDS IN EACH DOCUMENT\n",
    "\n",
    "#length_docs=np.random.poisson(lam=1000, size=theta.shape[0])\n",
    "sns.histplot(length_docs).set(xlabel='num. words', ylabel='counts')\n",
    "plt.axvline(np.mean(length_docs), linewidth=2.5, color='black')\n",
    "plt.axvline(np.percentile(length_docs, 25), linestyle='--', color='black')\n",
    "plt.axvline(np.percentile(length_docs, 50), linestyle='--', color='black')\n",
    "plt.axvline(np.percentile(length_docs, 75), linestyle='--', color='black')\n",
    "plt.legend('topright', labels=['mean', 'quartiles'])\n",
    "plt.show()\n"
   ]
  },
  {
   "cell_type": "code",
   "execution_count": null,
   "id": "e6fa39e8",
   "metadata": {},
   "outputs": [],
   "source": [
    "# METRICS PLOT TO COMPARE METHODS\n",
    "# metrics = 2-dim array, rows: methods, columns: num topic\n",
    "# method_labels = list of strings with names of the methods\n",
    "# num_topic = list of integers, ex. [10,20,30,40,50]\n",
    "\n",
    "def metrics_plot(metrics,method_labels,num_topic):\n",
    "    for i in range(num_metrics):\n",
    "        plt.plot(num_topic,metrics[i,], label=method_labels[i])\n",
    "    plt.legend()\n",
    "    plt.xticks(num_topic)\n",
    "    plt.show()"
   ]
  }
 ],
 "metadata": {
  "kernelspec": {
   "display_name": "pmda",
   "language": "python",
   "name": "pmda"
  },
  "language_info": {
   "codemirror_mode": {
    "name": "ipython",
    "version": 3
   },
   "file_extension": ".py",
   "mimetype": "text/x-python",
   "name": "python",
   "nbconvert_exporter": "python",
   "pygments_lexer": "ipython3",
   "version": "3.6.7"
  }
 },
 "nbformat": 4,
 "nbformat_minor": 5
}
